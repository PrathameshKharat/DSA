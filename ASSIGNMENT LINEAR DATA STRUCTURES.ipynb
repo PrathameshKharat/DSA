{
 "cells": [
  {
   "cell_type": "code",
   "execution_count": 17,
   "id": "d117bf1e",
   "metadata": {},
   "outputs": [
    {
     "name": "stdout",
     "output_type": "stream",
     "text": [
      "Enter sum required: 8\n",
      "Count of pairs are:  1\n",
      "Printing s 4\n"
     ]
    }
   ],
   "source": [
    "## Q1: Write a program to find all pairs of an integer array whose sum is equal to a given number?\n",
    "\n",
    "def PairsCount(arr,n,sum):\n",
    "    count=0\n",
    "    for i in range(0,n):\n",
    "        for j in range(i+1,n):\n",
    "            if arr[i]+arr[j]==sum:\n",
    "                count+= 1\n",
    "    return count\n",
    "\n",
    "arr = [1, 4, 8, -13, 7]\n",
    "n = len(arr)\n",
    "sum = int(input(\"Enter sum required: \"))\n",
    "print(\"Count of pairs are: \",\n",
    "      PairsCount(arr, n, sum))\n",
    "\n",
    "s=PairsCount([1,2,3,2,1],5,3)\n",
    "print(\"Printing s\",s)\n"
   ]
  },
  {
   "cell_type": "code",
   "execution_count": 1,
   "id": "83f6845a",
   "metadata": {},
   "outputs": [],
   "source": [
    "###############################################################################################################################\n",
    "###############################################################################################################################\n",
    "###############################################################################################################################\n",
    "###############################################################################################################################"
   ]
  },
  {
   "cell_type": "code",
   "execution_count": 4,
   "id": "66d15cb5",
   "metadata": {},
   "outputs": [
    {
     "name": "stdout",
     "output_type": "stream",
     "text": [
      "[7, 6, 5, 4, 3, 2, 1]\n",
      "Reversed list is: \n",
      "[1, 2, 3, 4, 5, 6, 7]\n"
     ]
    }
   ],
   "source": [
    "#Q2. Write a program to reverse an array in place? In place means you cannot create a new array. You have to update the original array.\n",
    "\n",
    "def reverseList(A, i, j):\n",
    "    while i < j:\n",
    "        A[i], A[j] = A[j], A[i]\n",
    "        i += 1\n",
    "        j -= 1\n",
    "\n",
    "A = [7,6,5,4,3,2,1]\n",
    "print(A)\n",
    "reverseList(A, 0, 6)\n",
    "print(\"Reversed list is: \")\n",
    "print(A)"
   ]
  },
  {
   "cell_type": "code",
   "execution_count": 5,
   "id": "0be3db46",
   "metadata": {},
   "outputs": [],
   "source": [
    "###############################################################################################################################\n",
    "###############################################################################################################################\n",
    "###############################################################################################################################\n",
    "###############################################################################################################################"
   ]
  },
  {
   "cell_type": "code",
   "execution_count": 13,
   "id": "0e8f0184",
   "metadata": {},
   "outputs": [
    {
     "name": "stdout",
     "output_type": "stream",
     "text": [
      "Enter String-1AACD\n",
      "Enter String-2ACDA\n",
      "Strings are rotations of each other\n"
     ]
    }
   ],
   "source": [
    "# Q3. Write a program to check if two strings are a rotation of each other?\n",
    "\n",
    "def Rotations(string1, string2):\n",
    "    size1 = len(string1)\n",
    "    size2 = len(string2)\n",
    "    temp = ''\n",
    " \n",
    "    if size1 != size2:\n",
    "        return 0\n",
    " \n",
    "\n",
    "    temp = string1 + string1\n",
    "\n",
    "    if (temp.count(string2)> 0):\n",
    "        return 1\n",
    "    else:\n",
    "        return 0\n",
    "    \n",
    "    \n",
    "string1 = input('Enter String-1')\n",
    "string2 = input(\"Enter String-2\")\n",
    " \n",
    "if Rotations(string1, string2):\n",
    "    print (\"Strings are rotations of each other\")\n",
    "else:\n",
    "    print (\"Strings are not rotations of each other\")"
   ]
  },
  {
   "cell_type": "code",
   "execution_count": null,
   "id": "7645d7a0",
   "metadata": {},
   "outputs": [],
   "source": [
    "###############################################################################################################################\n",
    "###############################################################################################################################\n",
    "###############################################################################################################################\n",
    "###############################################################################################################################"
   ]
  },
  {
   "cell_type": "code",
   "execution_count": 17,
   "id": "c6d1a2e8",
   "metadata": {},
   "outputs": [
    {
     "name": "stdout",
     "output_type": "stream",
     "text": [
      "Enter string: edyoda\n",
      "First non-repeating character is:  e\n"
     ]
    }
   ],
   "source": [
    "# Q4. Write a program to print the first non-repeated character from a string?\n",
    "\n",
    "s =input(\"Enter string: \")\n",
    "while s != \"\":\n",
    "    slen0 = len(s)\n",
    "    ch = s[0]\n",
    "    s = s.replace(ch, \"\")\n",
    "    slen1 = len(s)\n",
    "    if slen1 == slen0-1:\n",
    "        print (\"First non-repeating character is: \",ch)\n",
    "        break;\n",
    "    else:\n",
    "        print (\"No Unique Character Found!\")"
   ]
  },
  {
   "cell_type": "code",
   "execution_count": 18,
   "id": "e06cfe9e",
   "metadata": {},
   "outputs": [],
   "source": [
    "###############################################################################################################################\n",
    "###############################################################################################################################\n",
    "###############################################################################################################################\n",
    "###############################################################################################################################"
   ]
  },
  {
   "cell_type": "code",
   "execution_count": 30,
   "id": "769d646d",
   "metadata": {},
   "outputs": [
    {
     "name": "stdout",
     "output_type": "stream",
     "text": [
      "Enter expression: ABe+CD-*\n",
      "Postfix to Prefix Conversion:  A*+Be-CD\n"
     ]
    }
   ],
   "source": [
    "# Q6. Read about infix, prefix, and postfix expressions. Write a program to convert postfix to prefix expression.\n",
    "\n",
    "def isOperator(x):\n",
    "    if x == \"+\":\n",
    "        return True\n",
    "    if x == \"-\":\n",
    "        return True\n",
    "    if x == \"/\":\n",
    "        return True\n",
    "    if x == \"*\":\n",
    "        return True\n",
    "    return False\n",
    "def postToPre(post_exp):\n",
    "    s = []\n",
    "    length = len(post_exp)\n",
    "    for i in range(length):\n",
    "        if (isOperator(post_exp[i])):\n",
    "            op1 = s[-1]\n",
    "            s.pop()\n",
    "            op2 = s[-1]\n",
    "            s.pop()\n",
    "            temp = post_exp[i] + op2 + op1\n",
    "            s.append(temp)\n",
    "\n",
    "        else:\n",
    "            s.append(post_exp[i])   \n",
    "    ans = \"\"\n",
    "    for i in s:\n",
    "        ans += i\n",
    "    return ans\n",
    "\n",
    "exp=input(\"Enter expression: \")\n",
    "x=postToPre(exp)\n",
    "print(\"Postfix to Prefix Conversion: \",x)"
   ]
  },
  {
   "cell_type": "markdown",
   "id": "77dcf73f",
   "metadata": {},
   "source": [
    "Infix : the operator is in between the two operands that it is working on.\n",
    "    \n",
    "Prefix: the operators are first and operands are last\n",
    "    \n",
    "Postfix: Operands are first and operators are last"
   ]
  },
  {
   "cell_type": "code",
   "execution_count": null,
   "id": "df629edb",
   "metadata": {},
   "outputs": [],
   "source": [
    "###############################################################################################################################\n",
    "###############################################################################################################################\n",
    "###############################################################################################################################\n",
    "###############################################################################################################################"
   ]
  },
  {
   "cell_type": "code",
   "execution_count": 32,
   "id": "7024f3db",
   "metadata": {},
   "outputs": [
    {
     "name": "stdout",
     "output_type": "stream",
     "text": [
      "Enter the string: *-A/BC-/AKL\n",
      "((A-(B/C))*((A/K)-L))\n"
     ]
    }
   ],
   "source": [
    "# Q7. Write a program to convert prefix expression to infix expression.\n",
    "\n",
    "def prefixToInfix(prefix):\n",
    "    stack = []\n",
    "     \n",
    "    i = len(prefix) - 1\n",
    "    while i >= 0:\n",
    "        if not isOperator(prefix[i]):\n",
    "             \n",
    "            stack.append(prefix[i])\n",
    "            i -= 1\n",
    "        else:\n",
    "           \n",
    "            str = \"(\" + stack.pop() + prefix[i] + stack.pop() + \")\"\n",
    "            stack.append(str)\n",
    "            i -= 1\n",
    "     \n",
    "    return stack.pop()\n",
    " \n",
    "def isOperator(c):\n",
    "    if c == \"*\" or c == \"+\" or c == \"-\" or c == \"/\" or c == \"^\" or c == \"(\" or c == \")\":\n",
    "        return True\n",
    "    else:\n",
    "        return False\n",
    "\n",
    "str =input(\"Enter the string: \")\n",
    "print(prefixToInfix(str))"
   ]
  },
  {
   "cell_type": "code",
   "execution_count": null,
   "id": "41c93e0b",
   "metadata": {},
   "outputs": [],
   "source": [
    "###############################################################################################################################\n",
    "###############################################################################################################################\n",
    "###############################################################################################################################\n",
    "###############################################################################################################################"
   ]
  },
  {
   "cell_type": "code",
   "execution_count": 35,
   "id": "3f87d506",
   "metadata": {},
   "outputs": [
    {
     "name": "stdout",
     "output_type": "stream",
     "text": [
      "Not Balanced\n"
     ]
    }
   ],
   "source": [
    "# Q8. Write a program to check if all the brackets are closed in a given code snippet.\n",
    "\n",
    "def areBracketsBalanced(expr):\n",
    "    store = []\n",
    "    for char in expr:\n",
    "        if char in [\"(\", \"{\", \"[\"]:\n",
    "            store.append(char)\n",
    "        else:\n",
    "            if not store:\n",
    "                return False\n",
    "            current_char = store.pop()\n",
    "            if current_char == '(':\n",
    "                if char != \")\":\n",
    "                    return False\n",
    "            if current_char == '{':\n",
    "                if char != \"}\":\n",
    "                    return False\n",
    "            if current_char == '[':\n",
    "                if char != \"]\":\n",
    "                    return False\n",
    "    if stack:\n",
    "        return False\n",
    "    return True\n",
    "expr = \"{({)}[]\"\n",
    "\n",
    "if areBracketsBalanced(expr):\n",
    "    print(\"Balanced\")\n",
    "else:\n",
    "    print(\"Not Balanced\")"
   ]
  },
  {
   "cell_type": "code",
   "execution_count": null,
   "id": "714c4ddf",
   "metadata": {},
   "outputs": [],
   "source": [
    "###############################################################################################################################\n",
    "###############################################################################################################################\n",
    "###############################################################################################################################\n",
    "###############################################################################################################################"
   ]
  },
  {
   "cell_type": "code",
   "execution_count": 6,
   "id": "68451900",
   "metadata": {},
   "outputs": [
    {
     "name": "stdout",
     "output_type": "stream",
     "text": [
      "Original Stack \n",
      "17 26 35 8 \n",
      "Reversed Stack \n",
      "8 35 26 17 \n"
     ]
    }
   ],
   "source": [
    "# Q10. Write a program to reverse a stack.\n",
    "\n",
    "def insertAtBottom(stack, item):\n",
    "    if isEmpty(stack):\n",
    "        push(stack, item)\n",
    "    else:\n",
    "        temp = pop(stack)\n",
    "        insertAtBottom(stack, item)\n",
    "        push(stack, temp)\n",
    "def reverse(stack):\n",
    "    if not isEmpty(stack):\n",
    "        temp = pop(stack)\n",
    "        reverse(stack)\n",
    "        insertAtBottom(stack, temp)\n",
    "\n",
    "def createStack():\n",
    "    stack = []\n",
    "    return stack\n",
    "\n",
    "def isEmpty( stack ):\n",
    "    return len(stack) == 0\n",
    " \n",
    "\n",
    "def push( stack, item ):\n",
    "    stack.append( item )\n",
    "\n",
    "def pop( stack ):\n",
    "\n",
    "    if(isEmpty( stack )):\n",
    "        print(\"Stack Underflow \")\n",
    "        exit(1)\n",
    " \n",
    "    return stack.pop()\n",
    "def prints(stack):\n",
    "    for i in range(len(stack)-1, -1, -1):\n",
    "        print(stack[i], end = ' ')\n",
    "    print()\n",
    " \n",
    "# Driver Code\n",
    " \n",
    "stack = createStack()\n",
    "push( stack, str(8) )\n",
    "push( stack, str(35) )\n",
    "push( stack, str(26) )\n",
    "push( stack, str(17) )\n",
    "print(\"Original Stack \")\n",
    "prints(stack)\n",
    " \n",
    "reverse(stack)\n",
    " \n",
    "print(\"Reversed Stack \")\n",
    "prints(stack)"
   ]
  },
  {
   "cell_type": "code",
   "execution_count": null,
   "id": "c30d7d00",
   "metadata": {},
   "outputs": [],
   "source": [
    "###############################################################################################################################\n",
    "###############################################################################################################################\n",
    "###############################################################################################################################\n",
    "###############################################################################################################################"
   ]
  },
  {
   "cell_type": "code",
   "execution_count": null,
   "id": "74abeb36",
   "metadata": {},
   "outputs": [],
   "source": []
  },
  {
   "cell_type": "code",
   "execution_count": null,
   "id": "63b4cbff",
   "metadata": {},
   "outputs": [],
   "source": []
  },
  {
   "cell_type": "code",
   "execution_count": null,
   "id": "25155369",
   "metadata": {},
   "outputs": [],
   "source": []
  }
 ],
 "metadata": {
  "kernelspec": {
   "display_name": "Python 3",
   "language": "python",
   "name": "python3"
  },
  "language_info": {
   "codemirror_mode": {
    "name": "ipython",
    "version": 3
   },
   "file_extension": ".py",
   "mimetype": "text/x-python",
   "name": "python",
   "nbconvert_exporter": "python",
   "pygments_lexer": "ipython3",
   "version": "3.8.8"
  }
 },
 "nbformat": 4,
 "nbformat_minor": 5
}
